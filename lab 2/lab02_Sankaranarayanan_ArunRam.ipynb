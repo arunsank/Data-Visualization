{
 "cells": [
  {
   "cell_type": "code",
   "execution_count": 55,
   "metadata": {
    "collapsed": false
   },
   "outputs": [
    {
     "name": "stdout",
     "output_type": "stream",
     "text": [
      "1994\n",
      "2012\n"
     ]
    }
   ],
   "source": [
    "#Part 1 Data Maniplation with Python\n",
    "#Q1\n",
    "#First year and last year in the dataset\n",
    "\n",
    "import csv\n",
    "import pandas as pd\n",
    "from itertools import islice\n",
    "\n",
    "k= pd.read_csv('imdb.csv', delimiter='\\t')\n",
    "f = open('imdb.csv', 'r')\n",
    "reader=csv.reader(f,delimiter='\\t')\n",
    "jj= k[['Year']]\n",
    "cnt=len(jj)\n",
    "Firstyear= jj[\"Year\"].iloc[0]\n",
    "print(Firstyear)\n",
    "lstyear= jj[\"Year\"].iloc[313010]\n",
    "print(lstyear)\n"
   ]
  },
  {
   "cell_type": "code",
   "execution_count": 56,
   "metadata": {
    "collapsed": false
   },
   "outputs": [
    {
     "name": "stdout",
     "output_type": "stream",
     "text": [
      "Year    1874\n",
      "dtype: int64\n",
      "Year    2017\n",
      "dtype: int64\n"
     ]
    }
   ],
   "source": [
    "#Earliest year and latest year in the dataset\n",
    "\n",
    "yearval = k[['Year']]\n",
    "Panmin = yearval.min()\n",
    "Panmax =yearval.max()\n",
    "\n",
    "print(Panmin)\n",
    "print(Panmax)\n"
   ]
  },
  {
   "cell_type": "code",
   "execution_count": 57,
   "metadata": {
    "collapsed": false
   },
   "outputs": [
    {
     "name": "stdout",
     "output_type": "stream",
     "text": [
      "1874 1\n",
      "1878 1\n",
      "1887 1\n",
      "1888 5\n",
      "1889 2\n",
      "1890 5\n",
      "1891 9\n",
      "1892 9\n",
      "1893 2\n",
      "1894 94\n",
      "1895 116\n",
      "1896 678\n",
      "1897 479\n",
      "1898 321\n",
      "1899 242\n",
      "1900 265\n",
      "1901 254\n",
      "1902 217\n",
      "1903 261\n",
      "1904 214\n",
      "1905 177\n",
      "1906 182\n",
      "1907 197\n",
      "1908 267\n",
      "1909 405\n",
      "1910 389\n",
      "1911 309\n",
      "1912 376\n",
      "1913 311\n",
      "1914 315\n",
      "1915 361\n",
      "1916 328\n",
      "1917 317\n",
      "1918 286\n",
      "1919 313\n",
      "1920 323\n",
      "1921 345\n",
      "1922 328\n",
      "1923 393\n",
      "1924 466\n",
      "1925 508\n",
      "1926 554\n",
      "1927 581\n",
      "1928 609\n",
      "1929 671\n",
      "1930 836\n",
      "1931 939\n",
      "1932 1026\n",
      "1933 1024\n",
      "1934 1120\n",
      "1935 1174\n",
      "1936 1235\n",
      "1937 1245\n",
      "1938 1230\n",
      "1939 1162\n",
      "1940 1160\n",
      "1941 1169\n",
      "1942 1193\n",
      "1943 1105\n",
      "1944 969\n",
      "1945 876\n",
      "1946 952\n",
      "1947 1010\n",
      "1948 1084\n",
      "1949 1208\n",
      "1950 1283\n",
      "1951 1318\n",
      "1952 1316\n",
      "1953 1393\n",
      "1954 1397\n",
      "1955 1476\n",
      "1956 1479\n",
      "1957 1604\n",
      "1958 1533\n",
      "1959 1572\n",
      "1960 1567\n",
      "1961 1623\n",
      "1962 1669\n",
      "1963 1635\n",
      "1964 1823\n",
      "1965 1896\n",
      "1966 2025\n",
      "1967 2086\n",
      "1968 2199\n",
      "1969 2320\n",
      "1970 2240\n",
      "1971 2370\n",
      "1972 2445\n",
      "1973 2325\n",
      "1974 2392\n",
      "1975 2286\n",
      "1976 2399\n",
      "1977 2264\n",
      "1978 2386\n",
      "1979 2526\n",
      "1980 2438\n",
      "1981 2485\n",
      "1982 2537\n",
      "1983 2647\n",
      "1984 2779\n",
      "1985 2908\n",
      "1986 2882\n",
      "1987 3049\n",
      "1988 3054\n",
      "1989 3193\n",
      "1990 3093\n",
      "1991 2993\n",
      "1992 3136\n",
      "1993 3128\n",
      "1994 3414\n",
      "1995 3698\n",
      "1996 3923\n",
      "1997 4353\n",
      "1998 4651\n",
      "1999 5138\n",
      "2000 5575\n",
      "2001 6042\n",
      "2002 6694\n",
      "2003 7355\n",
      "2004 8584\n",
      "2005 9508\n",
      "2006 10115\n",
      "2007 10147\n",
      "2008 11095\n",
      "2009 12268\n",
      "2010 12931\n",
      "2011 13944\n",
      "2012 13886\n",
      "2013 13048\n",
      "2014 10862\n",
      "2015 4402\n",
      "2016 2\n",
      "2017 1\n"
     ]
    }
   ],
   "source": [
    "#How many movies released in each year\n",
    "from collections import Counter\n",
    "moviecount= Counter()\n",
    "for i in range(1,313010):\n",
    "        o= jj[\"Year\"].iloc[i]\n",
    "        moviecount[o] +=1\n",
    "\n",
    "for key,val in moviecount.items():\n",
    "    print (key,val)\n",
    "        \n"
   ]
  },
  {
   "cell_type": "code",
   "execution_count": 58,
   "metadata": {
    "collapsed": false
   },
   "outputs": [
    {
     "name": "stdout",
     "output_type": "stream",
     "text": [
      "Rating    6.296195\n",
      "dtype: float64\n",
      "Rating    6.5\n",
      "dtype: float64\n",
      "Votes    1691.231775\n",
      "dtype: float64\n",
      "Votes    25.0\n",
      "dtype: float64\n"
     ]
    }
   ],
   "source": [
    "#Q2 Average rating \n",
    "\n",
    "ratin = k[['Rating']]\n",
    "Panmean = ratin.mean()\n",
    "Panmed =ratin.median()\n",
    "\n",
    "print(Panmean)\n",
    "print(Panmed)\n",
    "\n",
    "#Average Votes\n",
    "votes = k[['Votes']]\n",
    "Votemean = votes.mean()\n",
    "Votemed =votes.median()\n",
    "\n",
    "print(Votemean)\n",
    "print(Votemed)\n"
   ]
  },
  {
   "cell_type": "code",
   "execution_count": 59,
   "metadata": {
    "collapsed": false
   },
   "outputs": [
    {
     "name": "stdout",
     "output_type": "stream",
     "text": [
      "(                                  Title\n",
      "0                                !Next?\n",
      "1                             #1 Single\n",
      "2                           #7DaysLater\n",
      "3                            #Bikerlive\n",
      "4                             #ByMySide\n",
      "5                         #LawstinWoods\n",
      "6                            #lovemilla\n",
      "7                             #nitTWITS\n",
      "8                      $#*! My Dad Says\n",
      "9       $1,000,000 Chance of a Lifetime\n",
      "10                       $100 Taxi Ride\n",
      "11              $100,000 Name That Tune\n",
      "12                              $2 Bill\n",
      "13                            $24 in 24\n",
      "14              $25 Million Dollar Hoax\n",
      "15                            $40 a Day\n",
      "16                             $5 Cover\n",
      "17                    $5 Cover: Seattle\n",
      "18                                $9.99\n",
      "19                          $weepstake$\n",
      "20                         'Allo 'Allo!\n",
      "21         'Conversations with My Wife'\n",
      "22                  'Da Kink in My Hair\n",
      "23                           'N Sync TV\n",
      "24                             'Orrible\n",
      "25                   'The Making Of...'\n",
      "26                'Til Death Do Us Part\n",
      "27                           'Til Death\n",
      "28                         'Wag kukurap\n",
      "29                             'Way Out\n",
      "...                                 ...\n",
      "312981            Üzenet a Volgapartról\n",
      "312982                      Üzeyir ömrü\n",
      "312983                        Üç Maymun\n",
      "312984                Üç ahbap çavuslar\n",
      "312985                       Üç arkadas\n",
      "312986                       Üç arkadas\n",
      "312987                      Üç garipler\n",
      "312988                      Üç halka 25\n",
      "312989                    Üç kagitcilar\n",
      "312990             Üç kardese bir gelin\n",
      "312991                Üç karislik dünya\n",
      "312992               Üç kizgin cengaver\n",
      "312993                       Üç kâgitçi\n",
      "312994                       Üç sevgili\n",
      "312995       Üç süpermen olimpiyatlarda\n",
      "312996           Üç tekerlekli bisiklet\n",
      "312997                   Üç öfkeli genç\n",
      "312998          Üç, Iki, Bir... Kestik!\n",
      "312999                         Üçte bir\n",
      "313000                     Üçüncü Sayfa\n",
      "313001          Üçüncü Selim'in gözdesi\n",
      "313002                       Üçüncü göz\n",
      "313003              Üçünüzü de mihlarim\n",
      "313004             Þegar Kanínur Fljúga\n",
      "313005                    Þetta Reddast\n",
      "313006              Þetta er ekkert mál\n",
      "313007                     Þriðja nafni\n",
      "313008                        Þröng sýn\n",
      "313009                           ärtico\n",
      "313010                                ö\n",
      "\n",
      "[313011 rows x 1 columns],         Rating\n",
      "0          5.4\n",
      "1          6.1\n",
      "2          7.1\n",
      "3          6.8\n",
      "4          5.5\n",
      "5          7.0\n",
      "6          6.7\n",
      "7          7.1\n",
      "8          6.3\n",
      "9          6.4\n",
      "10         6.8\n",
      "11         7.6\n",
      "12         6.0\n",
      "13         7.0\n",
      "14         4.7\n",
      "15         6.1\n",
      "16         5.8\n",
      "17         7.2\n",
      "18         7.7\n",
      "19         5.3\n",
      "20         8.4\n",
      "21         3.2\n",
      "22         4.3\n",
      "23         7.5\n",
      "24         6.7\n",
      "25         8.5\n",
      "26         7.2\n",
      "27         6.6\n",
      "28         6.1\n",
      "29         8.1\n",
      "...        ...\n",
      "312981     5.8\n",
      "312982     7.8\n",
      "312983     7.4\n",
      "312984     3.5\n",
      "312985     6.6\n",
      "312986     7.0\n",
      "312987     5.0\n",
      "312988     4.0\n",
      "312989     7.1\n",
      "312990     5.8\n",
      "312991     8.1\n",
      "312992     5.4\n",
      "312993     7.7\n",
      "312994     5.8\n",
      "312995     5.0\n",
      "312996     6.9\n",
      "312997     5.8\n",
      "312998     3.8\n",
      "312999     6.9\n",
      "313000     7.5\n",
      "313001     8.0\n",
      "313002     5.5\n",
      "313003     6.2\n",
      "313004     8.2\n",
      "313005     4.7\n",
      "313006     8.7\n",
      "313007     6.9\n",
      "313008     7.6\n",
      "313009     7.2\n",
      "313010     6.6\n",
      "\n",
      "[313011 rows x 1 columns])\n"
     ]
    }
   ],
   "source": [
    "#Combining and analyzing movie titles and ratings\n",
    "moverat = k[['Title']],k[['Rating']]\n",
    "print(moverat)"
   ]
  },
  {
   "cell_type": "code",
   "execution_count": 60,
   "metadata": {
    "collapsed": false
   },
   "outputs": [],
   "source": [
    "#Q3  Five movies with highest ratings and votes\n",
    "from collections import defaultdict\n",
    "import operator\n",
    "d = defaultdict(list)\n",
    "\n",
    "for i in range(1,313010):\n",
    "    d[k.iat[i,0]].append(k.iat[i,2])\n",
    "    \n",
    "sorted_x_by_val = sorted(d.items(), key=operator.itemgetter(1), reverse=True )\n"
   ]
  },
  {
   "cell_type": "code",
   "execution_count": 61,
   "metadata": {
    "collapsed": false
   },
   "outputs": [],
   "source": [
    "from collections import defaultdict\n",
    "import operator\n",
    "e = defaultdict(list)\n",
    "\n",
    "for i in range(1,313010):\n",
    "    e[k.iat[i,0]].append(k.iat[i,3])\n",
    "    \n",
    "sorted_x_by_val1 = sorted(e.items(), key=operator.itemgetter(1), reverse=True )\n",
    "\n"
   ]
  },
  {
   "cell_type": "code",
   "execution_count": 62,
   "metadata": {
    "collapsed": false
   },
   "outputs": [
    {
     "name": "stdout",
     "output_type": "stream",
     "text": [
      "('Adolfo Perez Esquivel: Rivers of Hope', [9.9000000000000004])\n",
      "('The Red Shirt Diaries', [9.8000000000000007])\n",
      "('Girls Loving Girls', [9.8000000000000007])\n",
      "('High-Rise', [9.8000000000000007])\n",
      "('Mari White Presents the Newsboys', [9.6999999999999993])\n"
     ]
    }
   ],
   "source": [
    "for i in range(0,5):\n",
    "    print(sorted_x_by_val[i])"
   ]
  },
  {
   "cell_type": "code",
   "execution_count": 63,
   "metadata": {
    "collapsed": false
   },
   "outputs": [
    {
     "name": "stdout",
     "output_type": "stream",
     "text": [
      "('The Shawshank Redemption', [1511933])\n",
      "('Inception', [1285905])\n",
      "('Fight Club', [1189053])\n",
      "('Pulp Fiction', [1177471])\n",
      "('The Lord of the Rings: The Fellowship of the Ring', [1108361])\n"
     ]
    }
   ],
   "source": [
    "for i in range(0,5):\n",
    "    print(sorted_x_by_val1[i])"
   ]
  }
 ],
 "metadata": {
  "anaconda-cloud": {},
  "kernelspec": {
   "display_name": "Python [Root]",
   "language": "python",
   "name": "Python [Root]"
  },
  "language_info": {
   "codemirror_mode": {
    "name": "ipython",
    "version": 3
   },
   "file_extension": ".py",
   "mimetype": "text/x-python",
   "name": "python",
   "nbconvert_exporter": "python",
   "pygments_lexer": "ipython3",
   "version": "3.5.2"
  }
 },
 "nbformat": 4,
 "nbformat_minor": 0
}
